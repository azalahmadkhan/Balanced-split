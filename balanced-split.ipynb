{
  "nbformat": 4,
  "nbformat_minor": 0,
  "metadata": {
    "colab": {
      "provenance": []
    },
    "kernelspec": {
      "name": "python3",
      "display_name": "Python 3"
    },
    "language_info": {
      "name": "python"
    },
    "accelerator": "TPU",
    "gpuClass": "standard"
  },
  "cells": [
    {
      "cell_type": "code",
      "execution_count": null,
      "metadata": {
        "id": "X_10gh97B8P0"
      },
      "outputs": [],
      "source": [
        "import pandas as pd\n",
        "import xgboost as xgb\n",
        "from sklearn.metrics import accuracy_score, roc_auc_score, plot_confusion_matrix, roc_curve, classification_report\n",
        "from sklearn.metrics import precision_score, recall_score, f1_score\n",
        "from sklearn.svm import SVC \n",
        "from sklearn.tree import DecisionTreeClassifier\n",
        "from sklearn.ensemble import RandomForestClassifier\n",
        "from sklearn.neural_network import MLPClassifier\n",
        "from sklearn.linear_model import LogisticRegression\n",
        "from sklearn.preprocessing import LabelEncoder\n",
        "from sklearn.model_selection import train_test_split\n",
        "from sklearn.metrics import mean_squared_error\n",
        "from sklearn import metrics"
      ]
    },
    {
      "cell_type": "markdown",
      "source": [
        "# Customer"
      ],
      "metadata": {
        "id": "mrXtPHKS86xB"
      }
    },
    {
      "cell_type": "code",
      "source": [
        "df = pd.read_csv('/content/Train.csv')"
      ],
      "metadata": {
        "id": "Ax5zNpNIjUwB"
      },
      "execution_count": null,
      "outputs": []
    },
    {
      "cell_type": "code",
      "source": [
        "df.head()"
      ],
      "metadata": {
        "colab": {
          "base_uri": "https://localhost:8080/",
          "height": 250
        },
        "id": "8UF3UYLhkU2D",
        "outputId": "c52a1348-8ab4-4439-bbcd-30b960a58e01"
      },
      "execution_count": null,
      "outputs": [
        {
          "output_type": "execute_result",
          "data": {
            "text/plain": [
              "       ID  Gender Ever_Married  Age Graduated     Profession  Work_Experience  \\\n",
              "0  462809    Male           No   22        No     Healthcare              1.0   \n",
              "1  462643  Female          Yes   38       Yes       Engineer              NaN   \n",
              "2  466315  Female          Yes   67       Yes       Engineer              1.0   \n",
              "3  461735    Male          Yes   67       Yes         Lawyer              0.0   \n",
              "4  462669  Female          Yes   40       Yes  Entertainment              NaN   \n",
              "\n",
              "  Spending_Score  Family_Size  Var_1 Segmentation  \n",
              "0            Low          4.0  Cat_4            D  \n",
              "1        Average          3.0  Cat_4            A  \n",
              "2            Low          1.0  Cat_6            B  \n",
              "3           High          2.0  Cat_6            B  \n",
              "4           High          6.0  Cat_6            A  "
            ],
            "text/html": [
              "\n",
              "  <div id=\"df-f559ea83-f39d-4c7c-96e2-640df2a282f0\">\n",
              "    <div class=\"colab-df-container\">\n",
              "      <div>\n",
              "<style scoped>\n",
              "    .dataframe tbody tr th:only-of-type {\n",
              "        vertical-align: middle;\n",
              "    }\n",
              "\n",
              "    .dataframe tbody tr th {\n",
              "        vertical-align: top;\n",
              "    }\n",
              "\n",
              "    .dataframe thead th {\n",
              "        text-align: right;\n",
              "    }\n",
              "</style>\n",
              "<table border=\"1\" class=\"dataframe\">\n",
              "  <thead>\n",
              "    <tr style=\"text-align: right;\">\n",
              "      <th></th>\n",
              "      <th>ID</th>\n",
              "      <th>Gender</th>\n",
              "      <th>Ever_Married</th>\n",
              "      <th>Age</th>\n",
              "      <th>Graduated</th>\n",
              "      <th>Profession</th>\n",
              "      <th>Work_Experience</th>\n",
              "      <th>Spending_Score</th>\n",
              "      <th>Family_Size</th>\n",
              "      <th>Var_1</th>\n",
              "      <th>Segmentation</th>\n",
              "    </tr>\n",
              "  </thead>\n",
              "  <tbody>\n",
              "    <tr>\n",
              "      <th>0</th>\n",
              "      <td>462809</td>\n",
              "      <td>Male</td>\n",
              "      <td>No</td>\n",
              "      <td>22</td>\n",
              "      <td>No</td>\n",
              "      <td>Healthcare</td>\n",
              "      <td>1.0</td>\n",
              "      <td>Low</td>\n",
              "      <td>4.0</td>\n",
              "      <td>Cat_4</td>\n",
              "      <td>D</td>\n",
              "    </tr>\n",
              "    <tr>\n",
              "      <th>1</th>\n",
              "      <td>462643</td>\n",
              "      <td>Female</td>\n",
              "      <td>Yes</td>\n",
              "      <td>38</td>\n",
              "      <td>Yes</td>\n",
              "      <td>Engineer</td>\n",
              "      <td>NaN</td>\n",
              "      <td>Average</td>\n",
              "      <td>3.0</td>\n",
              "      <td>Cat_4</td>\n",
              "      <td>A</td>\n",
              "    </tr>\n",
              "    <tr>\n",
              "      <th>2</th>\n",
              "      <td>466315</td>\n",
              "      <td>Female</td>\n",
              "      <td>Yes</td>\n",
              "      <td>67</td>\n",
              "      <td>Yes</td>\n",
              "      <td>Engineer</td>\n",
              "      <td>1.0</td>\n",
              "      <td>Low</td>\n",
              "      <td>1.0</td>\n",
              "      <td>Cat_6</td>\n",
              "      <td>B</td>\n",
              "    </tr>\n",
              "    <tr>\n",
              "      <th>3</th>\n",
              "      <td>461735</td>\n",
              "      <td>Male</td>\n",
              "      <td>Yes</td>\n",
              "      <td>67</td>\n",
              "      <td>Yes</td>\n",
              "      <td>Lawyer</td>\n",
              "      <td>0.0</td>\n",
              "      <td>High</td>\n",
              "      <td>2.0</td>\n",
              "      <td>Cat_6</td>\n",
              "      <td>B</td>\n",
              "    </tr>\n",
              "    <tr>\n",
              "      <th>4</th>\n",
              "      <td>462669</td>\n",
              "      <td>Female</td>\n",
              "      <td>Yes</td>\n",
              "      <td>40</td>\n",
              "      <td>Yes</td>\n",
              "      <td>Entertainment</td>\n",
              "      <td>NaN</td>\n",
              "      <td>High</td>\n",
              "      <td>6.0</td>\n",
              "      <td>Cat_6</td>\n",
              "      <td>A</td>\n",
              "    </tr>\n",
              "  </tbody>\n",
              "</table>\n",
              "</div>\n",
              "      <button class=\"colab-df-convert\" onclick=\"convertToInteractive('df-f559ea83-f39d-4c7c-96e2-640df2a282f0')\"\n",
              "              title=\"Convert this dataframe to an interactive table.\"\n",
              "              style=\"display:none;\">\n",
              "        \n",
              "  <svg xmlns=\"http://www.w3.org/2000/svg\" height=\"24px\"viewBox=\"0 0 24 24\"\n",
              "       width=\"24px\">\n",
              "    <path d=\"M0 0h24v24H0V0z\" fill=\"none\"/>\n",
              "    <path d=\"M18.56 5.44l.94 2.06.94-2.06 2.06-.94-2.06-.94-.94-2.06-.94 2.06-2.06.94zm-11 1L8.5 8.5l.94-2.06 2.06-.94-2.06-.94L8.5 2.5l-.94 2.06-2.06.94zm10 10l.94 2.06.94-2.06 2.06-.94-2.06-.94-.94-2.06-.94 2.06-2.06.94z\"/><path d=\"M17.41 7.96l-1.37-1.37c-.4-.4-.92-.59-1.43-.59-.52 0-1.04.2-1.43.59L10.3 9.45l-7.72 7.72c-.78.78-.78 2.05 0 2.83L4 21.41c.39.39.9.59 1.41.59.51 0 1.02-.2 1.41-.59l7.78-7.78 2.81-2.81c.8-.78.8-2.07 0-2.86zM5.41 20L4 18.59l7.72-7.72 1.47 1.35L5.41 20z\"/>\n",
              "  </svg>\n",
              "      </button>\n",
              "      \n",
              "  <style>\n",
              "    .colab-df-container {\n",
              "      display:flex;\n",
              "      flex-wrap:wrap;\n",
              "      gap: 12px;\n",
              "    }\n",
              "\n",
              "    .colab-df-convert {\n",
              "      background-color: #E8F0FE;\n",
              "      border: none;\n",
              "      border-radius: 50%;\n",
              "      cursor: pointer;\n",
              "      display: none;\n",
              "      fill: #1967D2;\n",
              "      height: 32px;\n",
              "      padding: 0 0 0 0;\n",
              "      width: 32px;\n",
              "    }\n",
              "\n",
              "    .colab-df-convert:hover {\n",
              "      background-color: #E2EBFA;\n",
              "      box-shadow: 0px 1px 2px rgba(60, 64, 67, 0.3), 0px 1px 3px 1px rgba(60, 64, 67, 0.15);\n",
              "      fill: #174EA6;\n",
              "    }\n",
              "\n",
              "    [theme=dark] .colab-df-convert {\n",
              "      background-color: #3B4455;\n",
              "      fill: #D2E3FC;\n",
              "    }\n",
              "\n",
              "    [theme=dark] .colab-df-convert:hover {\n",
              "      background-color: #434B5C;\n",
              "      box-shadow: 0px 1px 3px 1px rgba(0, 0, 0, 0.15);\n",
              "      filter: drop-shadow(0px 1px 2px rgba(0, 0, 0, 0.3));\n",
              "      fill: #FFFFFF;\n",
              "    }\n",
              "  </style>\n",
              "\n",
              "      <script>\n",
              "        const buttonEl =\n",
              "          document.querySelector('#df-f559ea83-f39d-4c7c-96e2-640df2a282f0 button.colab-df-convert');\n",
              "        buttonEl.style.display =\n",
              "          google.colab.kernel.accessAllowed ? 'block' : 'none';\n",
              "\n",
              "        async function convertToInteractive(key) {\n",
              "          const element = document.querySelector('#df-f559ea83-f39d-4c7c-96e2-640df2a282f0');\n",
              "          const dataTable =\n",
              "            await google.colab.kernel.invokeFunction('convertToInteractive',\n",
              "                                                     [key], {});\n",
              "          if (!dataTable) return;\n",
              "\n",
              "          const docLinkHtml = 'Like what you see? Visit the ' +\n",
              "            '<a target=\"_blank\" href=https://colab.research.google.com/notebooks/data_table.ipynb>data table notebook</a>'\n",
              "            + ' to learn more about interactive tables.';\n",
              "          element.innerHTML = '';\n",
              "          dataTable['output_type'] = 'display_data';\n",
              "          await google.colab.output.renderOutput(dataTable, element);\n",
              "          const docLink = document.createElement('div');\n",
              "          docLink.innerHTML = docLinkHtml;\n",
              "          element.appendChild(docLink);\n",
              "        }\n",
              "      </script>\n",
              "    </div>\n",
              "  </div>\n",
              "  "
            ]
          },
          "metadata": {},
          "execution_count": 12
        }
      ]
    },
    {
      "cell_type": "code",
      "source": [
        "df.Segmentation.value_counts()"
      ],
      "metadata": {
        "colab": {
          "base_uri": "https://localhost:8080/"
        },
        "id": "B35N3u5EkXE9",
        "outputId": "e27cd53f-1843-4c2f-870d-cfc8bcf1a489"
      },
      "execution_count": null,
      "outputs": [
        {
          "output_type": "execute_result",
          "data": {
            "text/plain": [
              "D    2268\n",
              "A    1972\n",
              "C    1970\n",
              "B    1858\n",
              "Name: Segmentation, dtype: int64"
            ]
          },
          "metadata": {},
          "execution_count": 13
        }
      ]
    },
    {
      "cell_type": "code",
      "source": [
        "train_ratios = [ 0.5, 0.55, 0.6, 0.65, 0.7, 0.75, 0.80, 0.85, 0.9]\n",
        "bal_split_acc = []\n",
        "bal_split_roc = []\n",
        "bal_split_rec = []\n",
        "bal_split_pre = []\n",
        "bal_split_f1 = []\n",
        "\n",
        "split_acc = []\n",
        "split_aroc = []\n",
        "split_rec = []\n",
        "split_pre = []\n",
        "split_f1 = []\n",
        "\n",
        "stratify_acc = []\n",
        "stratify_roc = []\n",
        "stratify_rec = []\n",
        "stratify_pre = []\n",
        "stratify_f1 = []"
      ],
      "metadata": {
        "id": "sRnJ4ZpikcOb"
      },
      "execution_count": null,
      "outputs": []
    },
    {
      "cell_type": "code",
      "source": [
        "lencoders = {}\n",
        "\n",
        "for col in df.select_dtypes(include=['object']).columns:\n",
        "    lencoders[col] = LabelEncoder()\n",
        "    df[col] = lencoders[col].fit_transform(df[col])"
      ],
      "metadata": {
        "id": "OCp8NJcPAaAW"
      },
      "execution_count": null,
      "outputs": []
    },
    {
      "cell_type": "code",
      "source": [
        "df['Work_Experience'] = df['Work_Experience'].fillna(df['Work_Experience'].mode()[0])\n",
        "df['Family_Size'] = df['Family_Size'].fillna(df['Family_Size'].mode()[0])\n",
        "\n",
        "df.isnull().sum()"
      ],
      "metadata": {
        "colab": {
          "base_uri": "https://localhost:8080/"
        },
        "id": "whYF079LAg6w",
        "outputId": "81dfffe3-d2ba-4599-eb55-9ca7ecf6b82b"
      },
      "execution_count": null,
      "outputs": [
        {
          "output_type": "execute_result",
          "data": {
            "text/plain": [
              "ID                 0\n",
              "Gender             0\n",
              "Ever_Married       0\n",
              "Age                0\n",
              "Graduated          0\n",
              "Profession         0\n",
              "Work_Experience    0\n",
              "Spending_Score     0\n",
              "Family_Size        0\n",
              "Var_1              0\n",
              "Segmentation       0\n",
              "dtype: int64"
            ]
          },
          "metadata": {},
          "execution_count": 16
        }
      ]
    },
    {
      "cell_type": "markdown",
      "source": [
        "## Random Forest"
      ],
      "metadata": {
        "id": "jkNi37-e9euc"
      }
    },
    {
      "cell_type": "code",
      "source": [
        "tr = 0.9\n",
        "m = len(df)\n",
        "classes = df['Segmentation'].unique().tolist()\n",
        "lens = []\n",
        "\n",
        "c = 'Segmentation'\n",
        "for i in range(len(classes)):\n",
        "    exec(f'df_{i} = df[df[c] == classes[i]]')\n",
        "    exec(f'm_{i} = len(df_{i})')\n",
        "    exec(f'lens.append(m_{i})')\n",
        "m_minority = min(lens)\n",
        "train_len_per_class = round(m * tr/len(classes))\n",
        "\n",
        "for i in range(len(classes)):\n",
        "    exec(f'y_{i} = df_{i}[c]')\n",
        "    exec(f'X_{i} = df_{i}.drop([c], axis = 1)')\n",
        "    exec(f'rat_{i} = train_len_per_class/m_{i}')\n",
        "    exec(f'X_train_{i}, X_test_{i}, y_train_{i}, y_test_{i} = train_test_split(X_{i}, y_{i}, train_size = rat_{i}, random_state = 0)')\n",
        "\n",
        "X_train = X_train_0\n",
        "y_train = y_train_0\n",
        "X_test = X_test_0\n",
        "y_test = y_test_0\n",
        "\n",
        "for i in range(1, len(classes)):\n",
        "  exec(f'X_train = X_train.append(X_train_{i}, ignore_index = True)')\n",
        "  exec(f'y_train = y_train.append(y_train_{i}, ignore_index = True)')\n",
        "  exec(f'X_test = X_test.append(X_test_{i}, ignore_index = True)')\n",
        "  exec(f'y_test = y_test.append(y_test_{i}, ignore_index = True)')"
      ],
      "metadata": {
        "id": "VzFjbMd69cup"
      },
      "execution_count": null,
      "outputs": []
    },
    {
      "cell_type": "code",
      "source": [
        "classifier = RandomForestClassifier()\n",
        " \n",
        "classifier.fit(X_train, y_train)\n",
        "\n",
        "y_pred = classifier.predict(X_test)\n",
        "\n",
        "accuracy = accuracy_score(y_test, y_pred)\n",
        "bal_split_acc.append(accuracy)\n",
        "precision = precision_score(y_test, y_pred, average='weighted')\n",
        "bal_split_pre.append(precision)\n",
        "recall = recall_score(y_test, y_pred, average='weighted')\n",
        "bal_split_rec.append(recall)\n",
        "f1 = f1_score(y_test, y_pred, average='weighted')\n",
        "bal_split_f1.append(f1)\n",
        "\n",
        "print(\"Accuracy = {}\".format(accuracy))\n",
        "print(metrics.classification_report(y_test, y_pred))\n",
        "print(\"F1 Score = {}\".format(f1))"
      ],
      "metadata": {
        "colab": {
          "base_uri": "https://localhost:8080/"
        },
        "id": "6-jlwlW693iI",
        "outputId": "4986efee-fbcf-4bcc-b7ff-6b753f50cc38"
      },
      "execution_count": null,
      "outputs": [
        {
          "output_type": "stream",
          "name": "stdout",
          "text": [
            "Accuracy = 0.594059405940594\n",
            "              precision    recall  f1-score   support\n",
            "\n",
            "           0       0.36      0.45      0.40       157\n",
            "           1       0.12      0.35      0.18        43\n",
            "           2       0.66      0.61      0.63       155\n",
            "           3       0.86      0.66      0.75       453\n",
            "\n",
            "    accuracy                           0.59       808\n",
            "   macro avg       0.50      0.52      0.49       808\n",
            "weighted avg       0.69      0.59      0.63       808\n",
            "\n",
            "F1 Score = 0.6288696650107249\n"
          ]
        }
      ]
    },
    {
      "cell_type": "code",
      "source": [
        "y = df['Segmentation']\n",
        "X = df.drop(['Segmentation'], axis = 1)\n",
        "\n",
        "X_train, X_test, y_train, y_test = train_test_split(X, y, test_size = 0.1, random_state = 2)#, stratify=y)\n",
        "\n",
        "classifier = RandomForestClassifier()\n",
        " \n",
        "classifier.fit(X_train, y_train)\n",
        "\n",
        "y_pred = classifier.predict(X_test)\n",
        "\n",
        "accuracy = accuracy_score(y_test, y_pred)\n",
        "split_acc.append(accuracy)\n",
        "precision = precision_score(y_test, y_pred, average='weighted')\n",
        "split_pre.append(precision)\n",
        "recall = recall_score(y_test, y_pred, average='weighted')\n",
        "split_rec.append(recall)\n",
        "f1 = f1_score(y_test, y_pred, average='weighted')\n",
        "split_f1.append(f1)\n",
        "\n",
        "print(\"Accuracy = {}\".format(accuracy))\n",
        "print(metrics.classification_report(y_test, y_pred))\n",
        "print(\"Precision = {}\".format(precision))\n",
        "print(\"Recall = {}\".format(recall))\n",
        "print(\"F1 Score = {}\".format(f1))"
      ],
      "metadata": {
        "colab": {
          "base_uri": "https://localhost:8080/"
        },
        "id": "i_Nmc2VuASer",
        "outputId": "ff923072-fa74-4e04-9786-a0796f38fa53"
      },
      "execution_count": null,
      "outputs": [
        {
          "output_type": "stream",
          "name": "stdout",
          "text": [
            "Accuracy = 0.5018587360594795\n",
            "              precision    recall  f1-score   support\n",
            "\n",
            "           0       0.44      0.41      0.43       212\n",
            "           1       0.37      0.34      0.35       177\n",
            "           2       0.51      0.48      0.49       183\n",
            "           3       0.62      0.73      0.67       235\n",
            "\n",
            "    accuracy                           0.50       807\n",
            "   macro avg       0.48      0.49      0.48       807\n",
            "weighted avg       0.49      0.50      0.50       807\n",
            "\n",
            "Precision = 0.4926682549192537\n",
            "Recall = 0.5018587360594795\n",
            "F1 Score = 0.4955090173368942\n"
          ]
        }
      ]
    },
    {
      "cell_type": "code",
      "source": [
        "y = df['Segmentation']\n",
        "X = df.drop(['Segmentation'], axis = 1)\n",
        "\n",
        "X_train, X_test, y_train, y_test = train_test_split(X, y, test_size = 0.1, random_state = 2, stratify=y)\n",
        "\n",
        "classifier = RandomForestClassifier()\n",
        " \n",
        "classifier.fit(X_train, y_train)\n",
        "\n",
        "y_pred = classifier.predict(X_test)\n",
        "\n",
        "accuracy = accuracy_score(y_test, y_pred)\n",
        "stratify_acc.append(accuracy)\n",
        "precision = precision_score(y_test, y_pred, average='weighted')\n",
        "stratify_pre.append(precision)\n",
        "recall = recall_score(y_test, y_pred, average='weighted')\n",
        "stratify_rec.append(recall)\n",
        "f1 = f1_score(y_test, y_pred, average='weighted')\n",
        "stratify_f1.append(f1)\n",
        "\n",
        "print(\"Accuracy = {}\".format(accuracy))\n",
        "print(metrics.classification_report(y_test, y_pred))\n",
        "print(\"Precision = {}\".format(precision))\n",
        "print(\"Recall = {}\".format(recall))\n",
        "print(\"F1 Score = {}\".format(f1))"
      ],
      "metadata": {
        "colab": {
          "base_uri": "https://localhost:8080/"
        },
        "id": "6YWwNz3FCxbi",
        "outputId": "8ef230de-ab22-4ac0-de73-7356b8b06f9b"
      },
      "execution_count": null,
      "outputs": [
        {
          "output_type": "stream",
          "name": "stdout",
          "text": [
            "Accuracy = 0.5055762081784386\n",
            "              precision    recall  f1-score   support\n",
            "\n",
            "           0       0.46      0.50      0.48       197\n",
            "           1       0.39      0.35      0.37       186\n",
            "           2       0.49      0.44      0.47       197\n",
            "           3       0.63      0.70      0.66       227\n",
            "\n",
            "    accuracy                           0.51       807\n",
            "   macro avg       0.49      0.50      0.49       807\n",
            "weighted avg       0.50      0.51      0.50       807\n",
            "\n",
            "Precision = 0.4999967078755398\n",
            "Recall = 0.5055762081784386\n",
            "F1 Score = 0.501563214162122\n"
          ]
        }
      ]
    },
    {
      "cell_type": "code",
      "source": [
        "import matplotlib.pyplot as plt\n",
        "\n",
        "fig, ax = plt.subplots(figsize=[9, 7])\n",
        "\n",
        "ax.plot(train_ratios,\n",
        "         bal_split_acc,\n",
        "         marker='o', linewidth=2, label='Bal_Split')\n",
        "ax.plot(train_ratios,\n",
        "         split_acc,\n",
        "         marker='x', linewidth=2, label='Split')\n",
        "ax.plot(train_ratios,\n",
        "         stratify_acc,\n",
        "         marker='v', linewidth=2, label='Stratify')\n",
        "\n",
        "ax.set_xlabel('Train Ratios')\n",
        "ax.set_ylabel('Accuracy')\n",
        "plt.legend()\n",
        "plt.show()"
      ],
      "metadata": {
        "colab": {
          "base_uri": "https://localhost:8080/",
          "height": 442
        },
        "id": "AkOXi4OrDRWF",
        "outputId": "e936705f-2607-4f54-cd98-75d9c217c9b5"
      },
      "execution_count": null,
      "outputs": [
        {
          "output_type": "display_data",
          "data": {
            "text/plain": [
              "<Figure size 648x504 with 1 Axes>"
            ],
            "image/png": "[encoded data removed]"
          },
          "metadata": {
            "needs_background": "light"
          }
        }
      ]
    },
    {
      "cell_type": "code",
      "source": [
        "print('bal-spli')\n",
        "print(bal_split_acc)\n",
        "print('split')\n",
        "print(split_acc)\n",
        "print('strat-split')\n",
        "print(stratify_acc)"
      ],
      "metadata": {
        "colab": {
          "base_uri": "https://localhost:8080/"
        },
        "id": "52XkFRLXPkqd",
        "outputId": "ae2537bf-cec4-4b4c-8dbc-0d8ddcb9e661"
      },
      "execution_count": null,
      "outputs": [
        {
          "output_type": "stream",
          "name": "stdout",
          "text": [
            "bal-spli\n",
            "[0.5195738354806739, 0.5129405286343612, 0.5179677819083024, 0.5279745042492918, 0.5376033057851239, 0.5453644025780863, 0.5663771712158809, 0.556930693069307, 0.594059405940594]\n",
            "split\n",
            "[0.49826474962816064, 0.5089507022858717, 0.506815365551425, 0.5060198300283286, 0.5179677819083024, 0.5210708973723351, 0.5136307311028501, 0.5127993393889347, 0.5018587360594795]\n",
            "strat-split\n",
            "[0.5109072880515617, 0.506196640044065, 0.5161090458488228, 0.5169971671388102, 0.5150764147046675, 0.5156172533465543, 0.49876084262701365, 0.5152766308835673, 0.5055762081784386]\n"
          ]
        }
      ]
    },
    {
      "cell_type": "code",
      "source": [
        "fig, ax = plt.subplots(figsize=[9, 7])\n",
        "\n",
        "ax.plot(train_ratios,\n",
        "         bal_split_f1,\n",
        "         marker='o', linewidth=2, label='Bal_Split')\n",
        "ax.plot(train_ratios,\n",
        "         split_f1,\n",
        "         marker='x', linewidth=2, label='Split')\n",
        "ax.plot(train_ratios,\n",
        "         stratify_f1,\n",
        "         marker='v', linewidth=2, label='Stratify')\n",
        "\n",
        "\n",
        "ax.set_xlabel('Train Ratios')\n",
        "ax.set_ylabel('F1')\n",
        "plt.legend()\n",
        "plt.show()"
      ],
      "metadata": {
        "colab": {
          "base_uri": "https://localhost:8080/",
          "height": 442
        },
        "id": "-S4juoCcDtaU",
        "outputId": "d0df2906-a300-497c-a62a-733d122af3c3"
      },
      "execution_count": null,
      "outputs": [
        {
          "output_type": "display_data",
          "data": {
            "text/plain": [
              "<Figure size 648x504 with 1 Axes>"
            ],
            "image/png": "[encoded data removed]"
          },
          "metadata": {
            "needs_background": "light"
          }
        }
      ]
    },
    {
      "cell_type": "code",
      "source": [
        "print('bal-spli')\n",
        "print(bal_split_f1)\n",
        "print('split')\n",
        "print(split_f1)\n",
        "print('strat-split')\n",
        "print(stratify_f1)"
      ],
      "metadata": {
        "colab": {
          "base_uri": "https://localhost:8080/"
        },
        "id": "lXteiyNdQD7P",
        "outputId": "afbcb836-034c-44bf-e68d-56319b7278c1"
      },
      "execution_count": null,
      "outputs": [
        {
          "output_type": "stream",
          "name": "stdout",
          "text": [
            "bal-spli\n",
            "[0.5228304258468377, 0.5156845553947742, 0.5217797439913329, 0.5341421763976226, 0.5437300782151927, 0.5531356435086021, 0.5763547470996365, 0.5733853058893974, 0.6288696650107249]\n",
            "split\n",
            "[0.49305557480900786, 0.5048605241629769, 0.5030994936253113, 0.5016708146680736, 0.5141172865090244, 0.5174250186677126, 0.5113001025546932, 0.5062682085325356, 0.4955090173368942]\n",
            "strat-split\n",
            "[0.5064811405680982, 0.5022738808423939, 0.5132271113744598, 0.5142946330007113, 0.513061473370771, 0.5131122860856454, 0.49607950377582477, 0.5106480095005439, 0.501563214162122]\n"
          ]
        }
      ]
    },
    {
      "cell_type": "markdown",
      "source": [
        "## Logistic Regression"
      ],
      "metadata": {
        "id": "zxAlitD7JCih"
      }
    },
    {
      "cell_type": "code",
      "source": [
        "tr = 0.9\n",
        "m = len(df)\n",
        "classes = df['Segmentation'].unique().tolist()\n",
        "lens = []\n",
        "\n",
        "c = 'Segmentation'\n",
        "for i in range(len(classes)):\n",
        "    exec(f'df_{i} = df[df[c] == classes[i]]')\n",
        "    exec(f'm_{i} = len(df_{i})')\n",
        "    exec(f'lens.append(m_{i})')\n",
        "m_minority = min(lens)\n",
        "train_len_per_class = round(m * tr/len(classes))\n",
        "\n",
        "for i in range(len(classes)):\n",
        "    exec(f'y_{i} = df_{i}[c]')\n",
        "    exec(f'X_{i} = df_{i}.drop([c], axis = 1)')\n",
        "    exec(f'rat_{i} = train_len_per_class/m_{i}')\n",
        "    exec(f'X_train_{i}, X_test_{i}, y_train_{i}, y_test_{i} = train_test_split(X_{i}, y_{i}, train_size = rat_{i}, random_state = 0)')\n",
        "\n",
        "X_train = X_train_0\n",
        "y_train = y_train_0\n",
        "X_test = X_test_0\n",
        "y_test = y_test_0\n",
        "\n",
        "for i in range(1, len(classes)):\n",
        "  exec(f'X_train = X_train.append(X_train_{i}, ignore_index = True)')\n",
        "  exec(f'y_train = y_train.append(y_train_{i}, ignore_index = True)')\n",
        "  exec(f'X_test = X_test.append(X_test_{i}, ignore_index = True)')\n",
        "  exec(f'y_test = y_test.append(y_test_{i}, ignore_index = True)')"
      ],
      "metadata": {
        "id": "HksN7vDcE2Ga"
      },
      "execution_count": null,
      "outputs": []
    },
    {
      "cell_type": "code",
      "source": [
        "from sklearn import metrics\n",
        "\n",
        "classifier = RandomForestClassifier()\n",
        " \n",
        "classifier.fit(X_train, y_train)\n",
        "\n",
        "y_pred = classifier.predict(X_test)\n",
        "\n",
        "accuracy = accuracy_score(y_test, y_pred)\n",
        "bal_split_acc.append(accuracy)\n",
        "precision = precision_score(y_test, y_pred, average='weighted')\n",
        "bal_split_pre.append(precision)\n",
        "recall = recall_score(y_test, y_pred, average='weighted')\n",
        "bal_split_rec.append(recall)\n",
        "f1 = f1_score(y_test, y_pred, average='weighted')\n",
        "bal_split_f1.append(f1)\n",
        "\n",
        "print(\"Accuracy = {}\".format(accuracy))\n",
        "print(metrics.classification_report(y_test, y_pred))\n",
        "print(\"Precision = {}\".format(precision))\n",
        "print(\"Recall = {}\".format(recall))\n",
        "print(\"F1 Score = {}\".format(f1))"
      ],
      "metadata": {
        "colab": {
          "base_uri": "https://localhost:8080/"
        },
        "id": "Q959-TwZJULs",
        "outputId": "830fd90d-1c51-47d2-f61c-2fa537a45ec7"
      },
      "execution_count": null,
      "outputs": [
        {
          "output_type": "stream",
          "name": "stdout",
          "text": [
            "Accuracy = 0.5754950495049505\n",
            "              precision    recall  f1-score   support\n",
            "\n",
            "           0       0.35      0.45      0.39       157\n",
            "           1       0.12      0.37      0.18        43\n",
            "           2       0.66      0.59      0.62       155\n",
            "           3       0.86      0.63      0.73       453\n",
            "\n",
            "    accuracy                           0.58       808\n",
            "   macro avg       0.50      0.51      0.48       808\n",
            "weighted avg       0.68      0.58      0.61       808\n",
            "\n",
            "Precision = 0.683442202127696\n",
            "Recall = 0.5754950495049505\n",
            "F1 Score = 0.6145360765796183\n"
          ]
        }
      ]
    },
    {
      "cell_type": "code",
      "source": [
        "y = df['Segmentation']\n",
        "X = df.drop(['Segmentation'], axis = 1)\n",
        "\n",
        "X_train, X_test, y_train, y_test = train_test_split(X, y, test_size = 0.1, random_state = 2)#, stratify=y)\n",
        "\n",
        "classifier = RandomForestClassifier()\n",
        " \n",
        "classifier.fit(X_train, y_train)\n",
        "\n",
        "y_pred = classifier.predict(X_test)\n",
        "\n",
        "accuracy = accuracy_score(y_test, y_pred)\n",
        "split_acc.append(accuracy)\n",
        "precision = precision_score(y_test, y_pred, average='weighted')\n",
        "split_pre.append(precision)\n",
        "recall = recall_score(y_test, y_pred, average='weighted')\n",
        "split_rec.append(recall)\n",
        "f1 = f1_score(y_test, y_pred, average='weighted')\n",
        "split_f1.append(f1)\n",
        "\n",
        "print(\"Accuracy = {}\".format(accuracy))\n",
        "print(metrics.classification_report(y_test, y_pred))\n",
        "print(\"Precision = {}\".format(precision))\n",
        "print(\"Recall = {}\".format(recall))\n",
        "print(\"F1 Score = {}\".format(f1))"
      ],
      "metadata": {
        "colab": {
          "base_uri": "https://localhost:8080/"
        },
        "id": "iI1QYE2NJX65",
        "outputId": "f1e4bb12-0e74-4ecc-9a59-f0593d78d6b1"
      },
      "execution_count": null,
      "outputs": [
        {
          "output_type": "stream",
          "name": "stdout",
          "text": [
            "Accuracy = 0.49566294919454773\n",
            "              precision    recall  f1-score   support\n",
            "\n",
            "           0       0.41      0.37      0.39       212\n",
            "           1       0.38      0.36      0.37       177\n",
            "           2       0.54      0.49      0.51       183\n",
            "           3       0.61      0.71      0.66       235\n",
            "\n",
            "    accuracy                           0.50       807\n",
            "   macro avg       0.48      0.48      0.48       807\n",
            "weighted avg       0.49      0.50      0.49       807\n",
            "\n",
            "Precision = 0.4872644667595892\n",
            "Recall = 0.49566294919454773\n",
            "F1 Score = 0.4897101034631293\n"
          ]
        }
      ]
    },
    {
      "cell_type": "code",
      "source": [
        "y = df['Segmentation']\n",
        "X = df.drop(['Segmentation'], axis = 1)\n",
        "\n",
        "X_train, X_test, y_train, y_test = train_test_split(X, y, test_size = 0.1, random_state = 2, stratify=y)\n",
        "\n",
        "classifier = RandomForestClassifier()\n",
        " \n",
        "classifier.fit(X_train, y_train)\n",
        "\n",
        "y_pred = classifier.predict(X_test)\n",
        "\n",
        "accuracy = accuracy_score(y_test, y_pred)\n",
        "stratify_acc.append(accuracy)\n",
        "precision = precision_score(y_test, y_pred, average='weighted')\n",
        "stratify_pre.append(precision)\n",
        "recall = recall_score(y_test, y_pred, average='weighted')\n",
        "stratify_rec.append(recall)\n",
        "f1 = f1_score(y_test, y_pred, average='weighted')\n",
        "stratify_f1.append(f1)\n",
        "\n",
        "print(\"Accuracy = {}\".format(accuracy))\n",
        "print(metrics.classification_report(y_test, y_pred))\n",
        "print(\"Precision = {}\".format(precision))\n",
        "print(\"Recall = {}\".format(recall))\n",
        "print(\"F1 Score = {}\".format(f1))"
      ],
      "metadata": {
        "colab": {
          "base_uri": "https://localhost:8080/"
        },
        "id": "bgSN-ioiJYux",
        "outputId": "ce1c69c1-e8cd-49af-96f8-2d05eafd0efa"
      },
      "execution_count": null,
      "outputs": [
        {
          "output_type": "stream",
          "name": "stdout",
          "text": [
            "Accuracy = 0.5018587360594795\n",
            "              precision    recall  f1-score   support\n",
            "\n",
            "           0       0.44      0.48      0.46       197\n",
            "           1       0.40      0.34      0.37       186\n",
            "           2       0.51      0.47      0.49       197\n",
            "           3       0.62      0.69      0.65       227\n",
            "\n",
            "    accuracy                           0.50       807\n",
            "   macro avg       0.49      0.49      0.49       807\n",
            "weighted avg       0.50      0.50      0.50       807\n",
            "\n",
            "Precision = 0.49615571638900124\n",
            "Recall = 0.5018587360594795\n",
            "F1 Score = 0.497389122098551\n"
          ]
        }
      ]
    },
    {
      "cell_type": "code",
      "source": [
        "import matplotlib.pyplot as plt\n",
        "\n",
        "fig, ax = plt.subplots(figsize=[9, 7])\n",
        "\n",
        "ax.plot(train_ratios,\n",
        "         bal_split_acc,\n",
        "         marker='o', linewidth=2, label='Bal_Split')\n",
        "ax.plot(train_ratios,\n",
        "         split_acc,\n",
        "         marker='x', linewidth=2, label='Split')\n",
        "ax.plot(train_ratios,\n",
        "         stratify_acc,\n",
        "         marker='v', linewidth=2, label='Stratify')\n",
        "\n",
        "ax.set_xlabel('Train Ratios')\n",
        "ax.set_ylabel('Accuracy')\n",
        "plt.legend()\n",
        "plt.show()"
      ],
      "metadata": {
        "colab": {
          "base_uri": "https://localhost:8080/",
          "height": 442
        },
        "id": "v5STkho4KJA1",
        "outputId": "6e0be036-6db3-4361-9dbe-078b88130b8f"
      },
      "execution_count": null,
      "outputs": [
        {
          "output_type": "display_data",
          "data": {
            "text/plain": [
              "<Figure size 648x504 with 1 Axes>"
            ],
            "image/png": "[encoded data removed]"
          },
          "metadata": {
            "needs_background": "light"
          }
        }
      ]
    },
    {
      "cell_type": "code",
      "source": [
        "print('bal-spli')\n",
        "print(bal_split_acc)\n",
        "print('split')\n",
        "print(split_acc)\n",
        "print('strat-split')\n",
        "print(stratify_acc)"
      ],
      "metadata": {
        "colab": {
          "base_uri": "https://localhost:8080/"
        },
        "id": "LKyz5QrscBM_",
        "outputId": "147cf7ed-cf73-4628-b90d-6060c51464d4"
      },
      "execution_count": null,
      "outputs": [
        {
          "output_type": "stream",
          "name": "stdout",
          "text": [
            "bal-spli\n",
            "[0.5190782953419227, 0.5104625550660793, 0.5204460966542751, 0.5265580736543909, 0.53099173553719, 0.5493306891422906, 0.5570719602977667, 0.5602310231023102, 0.5754950495049505]\n",
            "split\n",
            "[0.5057015369360436, 0.509501514734233, 0.5049566294919455, 0.49822946175637395, 0.5022717885171417, 0.5101636093207734, 0.5185873605947955, 0.5144508670520231, 0.49566294919454773]\n",
            "strat-split\n",
            "[0.5096678235002479, 0.502065546681355, 0.5161090458488228, 0.5070821529745042, 0.5138372573316812, 0.5215666831928607, 0.5086741016109045, 0.5317919075144508, 0.5018587360594795]\n"
          ]
        }
      ]
    },
    {
      "cell_type": "code",
      "source": [
        "fig, ax = plt.subplots(figsize=[9, 7])\n",
        "\n",
        "ax.plot(train_ratios,\n",
        "         bal_split_f1,\n",
        "         marker='o', linewidth=2, label='Bal_Split')\n",
        "ax.plot(train_ratios,\n",
        "         split_f1,\n",
        "         marker='x', linewidth=2, label='Split')\n",
        "ax.plot(train_ratios,\n",
        "         stratify_f1,\n",
        "         marker='v', linewidth=2, label='Stratify')\n",
        "\n",
        "\n",
        "ax.set_xlabel('Train Ratios')\n",
        "ax.set_ylabel('F1')\n",
        "plt.legend()\n",
        "plt.show()"
      ],
      "metadata": {
        "colab": {
          "base_uri": "https://localhost:8080/",
          "height": 444
        },
        "id": "bkWH538cKkNo",
        "outputId": "5de50ff8-5e4a-4bd1-9512-4610abd4e101"
      },
      "execution_count": null,
      "outputs": [
        {
          "output_type": "display_data",
          "data": {
            "text/plain": [
              "<Figure size 648x504 with 1 Axes>"
            ],
            "image/png": "[encoded data removed]"
          },
          "metadata": {
            "needs_background": "light"
          }
        }
      ]
    }
  ]
}